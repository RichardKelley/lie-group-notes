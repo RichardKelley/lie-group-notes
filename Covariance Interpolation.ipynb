{
 "cells": [
  {
   "cell_type": "code",
   "execution_count": null,
   "metadata": {},
   "outputs": [],
   "source": [
    "import numpy as np\n",
    "import matplotlib.pyplot as plt\n",
    "import ipywidgets as widgets\n",
    "%matplotlib widget\n",
    "\n",
    "from matplotlib import collections as mc\n",
    "import cmath\n",
    "from matplotlib.patches import Ellipse\n",
    "from math import sqrt\n",
    "\n",
    "from numpy.linalg import eig\n"
   ]
  },
  {
   "cell_type": "markdown",
   "metadata": {},
   "source": [
    "## Linear Interpolation Using Vectors"
   ]
  },
  {
   "cell_type": "code",
   "execution_count": null,
   "metadata": {},
   "outputs": [],
   "source": [
    "fix, ax = plt.subplots(figsize=(6,4))\n",
    "ax.set_ylim([0,1])\n",
    "ax.set_xlim([0,1])\n",
    "ax.grid(True)\n",
    "\n",
    "def linear_interpolate(x,y, theta):\n",
    "    return x + theta * (y - x)\n",
    "\n",
    "@widgets.interact(theta=(0.0, 1.0, 0.01))\n",
    "def update(theta = 0.0):\n",
    "    [l.remove() for l in ax.collections]\n",
    "    z1 = np.asarray([0.0, 0.0])\n",
    "    z2 = np.asarray([1.0, 1.0])\n",
    "    z = linear_interpolate(z1, z2, theta)\n",
    "    ax.scatter(z[0], z[1], color=\"C0\")"
   ]
  },
  {
   "cell_type": "markdown",
   "metadata": {},
   "source": [
    "## Interpolating Angles Using Complex Numbers"
   ]
  },
  {
   "cell_type": "code",
   "execution_count": null,
   "metadata": {},
   "outputs": [],
   "source": [
    "fix, ax = plt.subplots(figsize=(6,6))\n",
    "ax.set_ylim([0,1])\n",
    "ax.set_xlim([0,1])\n",
    "ax.grid(True)\n",
    "\n",
    "def complex_interpolate(x, y, alpha):\n",
    "    x_complex = x[0] + 1j * x[1]\n",
    "    y_complex = y[0] + 1j * y[1]    \n",
    "    z = cmath.exp(1j* alpha * (cmath.phase(y_complex) - cmath.phase(x_complex))) * (x_complex)\n",
    "    return np.asarray([z.real, z.imag])\n",
    "\n",
    "@widgets.interact(alpha=(0.0, 1.0, 0.01))\n",
    "def update(alpha = 0.0):\n",
    "    [l.remove() for l in ax.collections]\n",
    "    z1 = np.asarray([1.0, 0.0])\n",
    "    z2 = np.asarray([0.0, 1.0])\n",
    "\n",
    "    z = complex_interpolate(z1, z2, alpha)\n",
    "    ax.scatter(z[0], z[1], color=\"C0\")"
   ]
  },
  {
   "cell_type": "markdown",
   "metadata": {},
   "source": [
    "## Lie Group Definitions"
   ]
  },
  {
   "cell_type": "markdown",
   "metadata": {},
   "source": [
    "Probably the best single reference for these and related formulas is Ethan Eade's notes:\n",
    "\n",
    "http://ethaneade.com/lie.pdf"
   ]
  },
  {
   "cell_type": "code",
   "execution_count": null,
   "metadata": {},
   "outputs": [],
   "source": [
    "class so2(object):\n",
    "    def __init__(self):\n",
    "        pass\n",
    "    \n",
    "    @staticmethod\n",
    "    def exp(theta):\n",
    "        '''\n",
    "        Map x to a lie group element. We assume theta is a scalar and by skip the step where \n",
    "        we construct the skew-symmetric matrix [[0, -theta],[theta, 0]].\n",
    "        '''\n",
    "        return np.asarray([[np.cos(theta), -np.sin(theta)],\n",
    "                           [np.sin(theta), np.cos(theta)]])\n",
    "    \n",
    "class SO2(object):\n",
    "    def __init__(self):\n",
    "        pass\n",
    "    \n",
    "    @staticmethod\n",
    "    def log(X):\n",
    "        '''\n",
    "        Find a lie algebra element that generates x.\n",
    "        '''\n",
    "        return np.arctan2(X[1,0], X[0,0])\n",
    "    \n",
    "    @staticmethod\n",
    "    def inv(X):\n",
    "        return np.transpose(X)\n",
    "    \n",
    "    lie_algebra = so2\n",
    "    \n"
   ]
  },
  {
   "cell_type": "code",
   "execution_count": null,
   "metadata": {},
   "outputs": [],
   "source": [
    "def skew_2(omega):\n",
    "    return np.asarray([[0.0, -omega],\n",
    "                       [omega, 0.0]])\n",
    "\n",
    "def skew_3(omega):\n",
    "    return np.asarray([[0, -omega[2],omega[1]],\n",
    "                       [omega[2],0,-omega[0]],\n",
    "                       [-omega[1],omega[0],0]])"
   ]
  },
  {
   "cell_type": "code",
   "execution_count": null,
   "metadata": {},
   "outputs": [],
   "source": [
    "class se2(object):\n",
    "    def __init__(self):\n",
    "        pass\n",
    "    \n",
    "    @staticmethod\n",
    "    def exp(delta):\n",
    "        theta = delta[0]\n",
    "        u = delta[1:3]\n",
    "        #R = np.asarray([[np.cos(theta), -np.sin(theta)],\n",
    "        #                [np.sin(theta), np.cos(theta)]])\n",
    "        R = so2.exp(theta)\n",
    "        \n",
    "        # If theta is small, use a truncated Taylor series to approximate V.\n",
    "        # Otherwise use the closed-form expression.\n",
    "        if theta < 0.001:\n",
    "            V = np.identity(2) + (1.0 - (theta**2)/6.0 + (theta**4)/120.0) * skew_2(theta) + (0.5 - (theta**2)/24.0 + (theta**4)/720.0) * skew_2(theta) @ skew_2(theta)\n",
    "        else:\n",
    "            V = (1.0/theta) * np.asarray([[np.sin(theta), -(1.0 - np.cos(theta))],\n",
    "                                          [1.0 - np.cos(theta), np.sin(theta)]])\n",
    "        \n",
    "        t = V @ u\n",
    "        return np.asarray([[R[0,0], R[0,1], t[0]],\n",
    "                           [R[1,0], R[1,1], t[1]],\n",
    "                           [0.0,    0.0,    1.0]])\n",
    "\n",
    "class SE2(object):\n",
    "    lie_algebra = se2\n",
    "    \n",
    "    def __init__(self):\n",
    "        pass\n",
    "    \n",
    "    @staticmethod\n",
    "    def log(X):\n",
    "        theta = np.arctan2(X[1,0], X[0,0])\n",
    "\n",
    "        if theta < 0.001:\n",
    "            V = np.identity(2)\n",
    "            V_inv = V\n",
    "        else:\n",
    "            A = np.sin(theta)/theta\n",
    "            B = (1.0 - np.sin(theta))/theta\n",
    "            V_inv = (1.0 / (A**2 + B**2)) * np.asarray([[A, B], \n",
    "                                                        [-B, A]])\n",
    "        t = X[0:2, 2]\n",
    "        u = V_inv @ t\n",
    "        return np.asarray([theta, u[0], u[1]])\n",
    "    \n",
    "    @staticmethod\n",
    "    def inv(X):\n",
    "        R_inv = SO2.inv(X[0:2, 0:2])\n",
    "        t = X[0:2, 2]\n",
    "        t_inv = -R_inv @ t\n",
    "        \n",
    "        return np.asarray([[R_inv[0,0], R_inv[0,1], t_inv[0]],\n",
    "                           [R_inv[1,0], R_inv[1,1], t_inv[1]],\n",
    "                           [0.0, 0.0, 1.0]])"
   ]
  },
  {
   "cell_type": "code",
   "execution_count": null,
   "metadata": {},
   "outputs": [],
   "source": [
    "# TODO\n",
    "\n",
    "class so3(object):\n",
    "    def __init__(self):\n",
    "        pass\n",
    "    \n",
    "    @staticmethod\n",
    "    def exp(theta):\n",
    "        pass\n",
    "\n",
    "class SO3(object):\n",
    "    def __init__(self):\n",
    "        pass\n",
    "    \n",
    "    @staticmethod\n",
    "    def log(X):\n",
    "        pass\n",
    "    \n",
    "    @staticmethod\n",
    "    def inv(X):\n",
    "        return np.transpose(X)\n",
    "    \n",
    "    lie_algebra = so3\n",
    "    \n"
   ]
  },
  {
   "cell_type": "code",
   "execution_count": null,
   "metadata": {},
   "outputs": [],
   "source": [
    "# TODO\n",
    "\n",
    "class se3(object):\n",
    "    def __init__(self):\n",
    "        pass\n",
    "    \n",
    "    @staticmethod\n",
    "    def exp(theta):\n",
    "        pass\n",
    "\n",
    "class SE3(object):\n",
    "    lie_algebra = se3\n",
    "    \n",
    "    def __init__(self):\n",
    "        pass\n",
    "    \n",
    "    @staticmethod\n",
    "    def log(X):\n",
    "        pass\n",
    "    \n",
    "    @staticmethod\n",
    "    def inv(X):\n",
    "        pass\n",
    "    \n"
   ]
  },
  {
   "cell_type": "markdown",
   "metadata": {},
   "source": [
    "## Lie Group Interpolation Function"
   ]
  },
  {
   "cell_type": "markdown",
   "metadata": {},
   "source": [
    "This function works with all of the Lie groups that we will consider in the course of our robotics work."
   ]
  },
  {
   "cell_type": "code",
   "execution_count": null,
   "metadata": {},
   "outputs": [],
   "source": [
    "def interpolate(G, A, B, t):\n",
    "    return (G.lie_algebra).exp(t * G.log(B @ G.inv(A))) @ A"
   ]
  },
  {
   "cell_type": "markdown",
   "metadata": {},
   "source": [
    "## Interpolate 2D Rotation Using Lie Groups"
   ]
  },
  {
   "cell_type": "code",
   "execution_count": null,
   "metadata": {},
   "outputs": [],
   "source": [
    "fix, ax = plt.subplots(figsize=(6,6))\n",
    "ax.set_ylim([0,1])\n",
    "ax.set_xlim([0,1])\n",
    "ax.grid(True)\n",
    "\n",
    "@widgets.interact(alpha=(0.0, 1.0, 0.01))\n",
    "def update(alpha = 0.0):\n",
    "    [l.remove() for l in ax.collections]\n",
    "    z1 = so2.exp(0.0)\n",
    "    z2 = so2.exp(np.pi/2.0)\n",
    "    Z = interpolate(SO2, z1, z2, alpha)\n",
    "    z = Z @ np.array([1.0, 0.0])\n",
    "    ax.scatter(z[0], z[1], color=\"C0\")"
   ]
  },
  {
   "cell_type": "code",
   "execution_count": null,
   "metadata": {},
   "outputs": [],
   "source": [
    "def draw_axes_2d(SE2_elt, ax):\n",
    "    t = SE2_elt[0:2, 2]\n",
    "    R = SE2_elt[0:2, 0:2]\n",
    "    \n",
    "    # draw the origin\n",
    "    ax.scatter(t[0], t[1], color=\"C0\")\n",
    "    \n",
    "    # draw the x-axis\n",
    "    x_rot = R @ np.asarray([1.0, 0.0])\n",
    "    \n",
    "    # draw the y-axis\n",
    "    y_rot = R @ np.asarray([0.0, 1.0])\n",
    "    \n",
    "    c = [(1,0,0,1), (0,1,0,1)]\n",
    "    lc = mc.LineCollection([\n",
    "        [(t[0], t[1]), (t[0] + x_rot[0], t[1] + x_rot[1])],\n",
    "        [(t[0], t[1]), (t[0] + y_rot[0], t[1] + y_rot[1])]\n",
    "    ], colors=c)\n",
    "    \n",
    "    ax.add_collection(lc)"
   ]
  },
  {
   "cell_type": "markdown",
   "metadata": {},
   "source": [
    "## Interpolate 2D Pose Using Lie Groups"
   ]
  },
  {
   "cell_type": "markdown",
   "metadata": {},
   "source": [
    "The function below takes a pose and a covariance and draws the ellipse that contains 95% of the data generated by a bivariate normal with mean=pose and covariance=cov."
   ]
  },
  {
   "cell_type": "code",
   "execution_count": null,
   "metadata": {},
   "outputs": [],
   "source": [
    "def draw_gaussian(pose, cov, ax):\n",
    "    #ax = plt.gca()\n",
    "\n",
    "    #plt.scatter(mean[0], mean[1], c=\"Orange\")\n",
    "    \n",
    "    theta = SE2.log(pose)[0]\n",
    "    w, v = np.linalg.eig(cov)\n",
    "    \n",
    "    idx = w.argsort()[::-1]\n",
    "    w = w[idx]\n",
    "    v = v[idx]\n",
    "    \n",
    "    ax.add_patch(Ellipse((pose[0,2], pose[1,2]), \n",
    "            2.0 * sqrt(5.991 * w[1]), \n",
    "            2.0 * sqrt(5.991 * w[0]), \n",
    "            np.rad2deg(theta - np.arctan2(v[1][1], v[1][0])), \n",
    "            linewidth=1, \n",
    "            fill=False ))\n"
   ]
  },
  {
   "cell_type": "code",
   "execution_count": null,
   "metadata": {},
   "outputs": [],
   "source": [
    "# Example covariances\n",
    "sigma1 = np.asarray([[0.5, 0.0],\n",
    "                    [0.0, 0.2]])\n",
    "\n",
    "sigma2 = np.asarray([[0.1, 0.0],\n",
    "                     [0.0, 0.1]])"
   ]
  },
  {
   "cell_type": "code",
   "execution_count": null,
   "metadata": {},
   "outputs": [],
   "source": [
    "# Interpolate the covariance using the log-Euclidean geodesic.\n",
    "# See: http://proceedings.mlr.press/v37/huanga15.pdf for the geodesic.\n",
    "# See also: https://pyriemann.readthedocs.io/en/latest for some Riemannian geometry.\n",
    "def exp_cov(A):\n",
    "    w, v = eig(A)\n",
    "    return v @ np.diag(np.exp(w)) @ v.T\n",
    "\n",
    "def log_cov(A):\n",
    "    w, v = eig(A)\n",
    "    return v @ np.diag(np.log(w)) @ v.T\n",
    "\n",
    "def interp_cov(sigma1, sigma2, t):\n",
    "    return exp_cov((1-t) * log_cov(sigma1) + t * log_cov(sigma2))"
   ]
  },
  {
   "cell_type": "markdown",
   "metadata": {},
   "source": [
    "## Interpolate Both Poses and Covariances"
   ]
  },
  {
   "cell_type": "code",
   "execution_count": null,
   "metadata": {},
   "outputs": [],
   "source": [
    "fix, ax = plt.subplots(figsize=(6,6))\n",
    "ax.set_ylim([-10,10])\n",
    "ax.set_xlim([-10,10])\n",
    "ax.grid(True)\n",
    "\n",
    "@widgets.interact(alpha=(0.0, 1.0, 0.01))\n",
    "def update(alpha = 0.0):\n",
    "    [l.remove() for l in ax.collections]\n",
    "    [p.remove() for p in ax.patches]\n",
    "    \n",
    "    theta1 = np.pi/4.0\n",
    "    pose1 = np.asarray([[np.cos(theta1), -np.sin(theta1), 0.0],\n",
    "                        [np.sin(theta1),  np.cos(theta1), 0.0],\n",
    "                        [0.0, 0.0, 1.0]])\n",
    "    theta2 = np.pi/2.0\n",
    "    pose2 = np.asarray([[np.cos(theta2), -np.sin(theta2), 5.0],\n",
    "                        [np.sin(theta2),  np.cos(theta2), 5.0],\n",
    "                        [0.0, 0.0, 1.0]])\n",
    "    \n",
    "    Z = interpolate(SE2, pose1, pose2, alpha)\n",
    "    Sigma = interp_cov(sigma1, sigma2, alpha)\n",
    "    \n",
    "    draw_axes_2d(Z, ax)\n",
    "    \n",
    "    draw_gaussian(Z, Sigma, ax)"
   ]
  },
  {
   "cell_type": "code",
   "execution_count": null,
   "metadata": {},
   "outputs": [],
   "source": []
  }
 ],
 "metadata": {
  "kernelspec": {
   "display_name": "Python 3",
   "language": "python",
   "name": "python3"
  },
  "language_info": {
   "codemirror_mode": {
    "name": "ipython",
    "version": 3
   },
   "file_extension": ".py",
   "mimetype": "text/x-python",
   "name": "python",
   "nbconvert_exporter": "python",
   "pygments_lexer": "ipython3",
   "version": "3.7.3"
  }
 },
 "nbformat": 4,
 "nbformat_minor": 2
}
